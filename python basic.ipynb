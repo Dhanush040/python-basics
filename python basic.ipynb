{
  "metadata": {
    "kernelspec": {
      "name": "python",
      "display_name": "Python (Pyodide)",
      "language": "python"
    },
    "language_info": {
      "codemirror_mode": {
        "name": "python",
        "version": 3
      },
      "file_extension": ".py",
      "mimetype": "text/x-python",
      "name": "python",
      "nbconvert_exporter": "python",
      "pygments_lexer": "ipython3",
      "version": "3.8"
    }
  },
  "nbformat_minor": 4,
  "nbformat": 4,
  "cells": [
    {
      "cell_type": "code",
      "source": "#1 \nmy_variable = {\n    \"string\": \"Hello, world!\",\n    \"list\": [1, 2, 3, 4, 5],\n    \"float\": 3.14,\n    \"tuple\": (6, 7, 8)\n}\n",
      "metadata": {
        "trusted": true
      },
      "outputs": [],
      "execution_count": 1
    },
    {
      "cell_type": "code",
      "source": "#2 var1 = ' ' (ii) var2 = '[ DS , ML , Python]' (iii) var3 = [ 'DS' , 'ML' , 'Python' ] (iv) var4 = 1.\n\nData types:\n\nvar1 is a string.\n\nvar2 is a string.\n\nvar3 is a list.\n\nvar4 is a float.",
      "metadata": {
        "trusted": true
      },
      "outputs": [],
      "execution_count": null
    },
    {
      "cell_type": "code",
      "source": "#3 division\nresult = 10 / 3\nprint(result)  \n",
      "metadata": {
        "trusted": true
      },
      "outputs": [
        {
          "name": "stdout",
          "text": "3.3333333333333335\n",
          "output_type": "stream"
        }
      ],
      "execution_count": 2
    },
    {
      "cell_type": "code",
      "source": "#modulus\nresult = 10 % 3\nprint(result)  # Output: 1 (remainder when 10 is divided by 3)\n",
      "metadata": {
        "trusted": true
      },
      "outputs": [
        {
          "name": "stdout",
          "text": "1\n",
          "output_type": "stream"
        }
      ],
      "execution_count": 3
    },
    {
      "cell_type": "code",
      "source": "result = 10 // 3\nprint(result)  # Output: 3 (quotient without the remainder)\n#floor divusion\n",
      "metadata": {
        "trusted": true
      },
      "outputs": [
        {
          "name": "stdout",
          "text": "3\n",
          "output_type": "stream"
        }
      ],
      "execution_count": 4
    },
    {
      "cell_type": "code",
      "source": "result = 2 ** 3\nprint(result)  # Output: 8 (2 raised to the power of 3)\n#Exponentiation",
      "metadata": {
        "trusted": true
      },
      "outputs": [
        {
          "name": "stdout",
          "text": "8\n",
          "output_type": "stream"
        }
      ],
      "execution_count": 5
    },
    {
      "cell_type": "code",
      "source": "#4 \nmy_list = [1, \"Hello\", 3.14, True, [1, 2], (3, 4), {\"key\": \"value\"}, None, 5.67, \"World\"]\n\nfor element in my_list:\n    print(f\"Element: {element}, Data type: {type(element)}\")\n",
      "metadata": {
        "trusted": true
      },
      "outputs": [
        {
          "name": "stdout",
          "text": "Element: 1, Data type: <class 'int'>\nElement: Hello, Data type: <class 'str'>\nElement: 3.14, Data type: <class 'float'>\nElement: True, Data type: <class 'bool'>\nElement: [1, 2], Data type: <class 'list'>\nElement: (3, 4), Data type: <class 'tuple'>\nElement: {'key': 'value'}, Data type: <class 'dict'>\nElement: None, Data type: <class 'NoneType'>\nElement: 5.67, Data type: <class 'float'>\nElement: World, Data type: <class 'str'>\n",
          "output_type": "stream"
        }
      ],
      "execution_count": 6
    },
    {
      "cell_type": "code",
      "source": "#5\nA = 20\nB = 5\ncount = 0\n\nwhile A % B == 0:\n    A //= B\n    count += 1\n\nprint(f\"Number of times {A} is divisible by {B} is {count}\")\n",
      "metadata": {
        "trusted": true
      },
      "outputs": [
        {
          "name": "stdout",
          "text": "Number of times 4 is divisible by 5 is 1\n",
          "output_type": "stream"
        }
      ],
      "execution_count": 7
    },
    {
      "cell_type": "code",
      "source": "#6\nmy_numbers = list(range(1, 26))\n\nfor num in my_numbers:\n    if num % 3 == 0:\n        print(f\"{num} is divisible by 3\")\n    else:\n        print(f\"{num} is not divisible by 3\")\n",
      "metadata": {
        "trusted": true
      },
      "outputs": [
        {
          "name": "stdout",
          "text": "1 is not divisible by 3\n2 is not divisible by 3\n3 is divisible by 3\n4 is not divisible by 3\n5 is not divisible by 3\n6 is divisible by 3\n7 is not divisible by 3\n8 is not divisible by 3\n9 is divisible by 3\n10 is not divisible by 3\n11 is not divisible by 3\n12 is divisible by 3\n13 is not divisible by 3\n14 is not divisible by 3\n15 is divisible by 3\n16 is not divisible by 3\n17 is not divisible by 3\n18 is divisible by 3\n19 is not divisible by 3\n20 is not divisible by 3\n21 is divisible by 3\n22 is not divisible by 3\n23 is not divisible by 3\n24 is divisible by 3\n25 is not divisible by 3\n",
          "output_type": "stream"
        }
      ],
      "execution_count": 8
    },
    {
      "cell_type": "code",
      "source": "#7 my_list = [1, 2, 3]\nmy_list[0] = 10  # The list is modified to [10, 2, 3]\n",
      "metadata": {
        "trusted": true
      },
      "outputs": [],
      "execution_count": 9
    },
    {
      "cell_type": "code",
      "source": "my_tuple = (1, 2, 3)\n# my_tuple[0] = 10  # This would raise an error because tuples are immutable\n",
      "metadata": {
        "trusted": true
      },
      "outputs": [],
      "execution_count": 10
    },
    {
      "cell_type": "code",
      "source": "",
      "metadata": {
        "trusted": true
      },
      "outputs": [],
      "execution_count": null
    }
  ]
}